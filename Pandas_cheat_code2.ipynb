{
 "cells": [
  {
   "attachments": {},
   "cell_type": "markdown",
   "metadata": {},
   "source": [
    "# pandas cheat code\n",
    "\n",
    "## index\n",
    "* 조건식\n",
    "* str함수\n",
    "* 결측치 처리\n",
    "* 데이터 정렬\n",
    "* Column 추가/수정\n",
    "* 함수 적용\n",
    "* Groupby"
   ]
  },
  {
   "cell_type": "markdown",
   "metadata": {},
   "source": [
    "ref: https://www.youtube.com/watch?v=PjhlUzp_cU0"
   ]
  },
  {
   "cell_type": "code",
   "execution_count": null,
   "metadata": {},
   "outputs": [],
   "source": [
    "import pandas as pd"
   ]
  },
  {
   "attachments": {},
   "cell_type": "markdown",
   "metadata": {},
   "source": [
    "____\n",
    "\n",
    "## Dataframe의 조건식"
   ]
  },
  {
   "cell_type": "markdown",
   "metadata": {},
   "source": [
    "### 단순 조건\n",
    "\n",
    "`df_filter = (df['A'] >= 200)`  \n",
    "df의 'A' column에서 값이 200인것들만 추출하여 df_filter 변수에 선언함.\n",
    "\n",
    "`df[df_filter]`  \n",
    "위 조건에 맞는 데이터만 출력함.  \n",
    "\n",
    "`df[~df_filter]`  \n",
    "위 조건에 맞지 않는 데이터만 출력함.  \n",
    "\n",
    "\n",
    "`df.loc[df['A'] >= 200, 'B']`  \n",
    "'A' column의 값이 200 이상인 데이터들의 'B'을 출력  "
   ]
  },
  {
   "cell_type": "markdown",
   "metadata": {},
   "source": [
    "### 여러개의 조건\n",
    "\n",
    "`df.loc[(df['A'] >= 200) & (df['C'] == \"Temp\"), 'B']`  \n",
    "위와 같이 여러가지의 조건을 적용시키는것도 가능하다.  "
   ]
  },
  {
   "cell_type": "markdown",
   "metadata": {},
   "source": [
    "____\n",
    "\n",
    "## str 함수"
   ]
  },
  {
   "cell_type": "markdown",
   "metadata": {},
   "source": [
    "* startwith()\n",
    "   * `df[df['A'].str.startwith('T')]`: 'A' column에서 \"T\"로 시작하는 데이터 찾기  \n",
    "<br>\n",
    "    \n",
    "* contains()\n",
    "   * `df[df['A'].str.contains('T')]`: 'A' column에서 \"T\"가 포함된 데이터 찾기  \n",
    "<br>\n",
    "\n",
    "* isin()\n",
    "   * `filter = [\"T\", \"S\", \"C\"]`\n",
    "   * `df[df['A'].str.isin(filter)]`: 'A' column에서 filter list 내 요소가 포함된 데이터 찾기  \n",
    "<br>\n",
    "\n",
    "* lower()/upper()\n",
    "   * `df[df['A'].str.lower().isin(filter)]`: 'A' column 데이터 요소를 소문자로 변환시켰을때 filter list 내 요소가 포함된 데이터 찾기  \n",
    "<br>\n",
    "\n",
    "* na=True\n",
    "   * `df[df['A'].str.contains('T', na=False)]`: Nan값이 있을 경우 False로 처리\n",
    "<br>\n",
    "\n"
   ]
  },
  {
   "cell_type": "markdown",
   "metadata": {},
   "source": [
    "____\n",
    "\n",
    "## 결측치 처리"
   ]
  },
  {
   "cell_type": "markdown",
   "metadata": {},
   "source": [
    "* 결측치 처리 파라미터\n",
    "    * `df.dropna(axis='index', how='any')`\n",
    "    * axis: index or column / row or column 기준 삭제\n",
    "    * how: any or all / any: 1개라도 결측치가 있을 경우 삭제"
   ]
  },
  {
   "cell_type": "markdown",
   "metadata": {},
   "source": [
    "____\n",
    "\n",
    "## 데이터 정렬"
   ]
  },
  {
   "cell_type": "markdown",
   "metadata": {},
   "source": [
    "* 데이터 정렬\n",
    "    * `df.sort_values('column_name', ascending=True or False)`\n",
    "    * column_name 파라미터에 여러개의 column을 넣을 경우 list로 선언하여 넣어주면 됨.\n",
    "    * ascending Defalut 값은 True이며 False로 할 경우 내림차순 정렬  \n",
    "<br>\n",
    "\n",
    "* 여러개의 Column 정렬\n",
    "    * `df.sort_values(['A','B','C'], ascending=[True, False])`"
   ]
  },
  {
   "cell_type": "markdown",
   "metadata": {},
   "source": [
    "____\n",
    "\n",
    "## Column 추가/수정"
   ]
  },
  {
   "cell_type": "markdown",
   "metadata": {},
   "source": [
    "* column 내 데이터 수정\n",
    "    * `df[\"A'].replace({'pre_word1':'new_word1', 'pre_word2':'new_word2'})`\n",
    "    * inplace 옵션도 사용 가능하다.  \n",
    "<br>\n",
    "\n",
    "* column 내 데이터에 내용 추가하기\n",
    "    * `df['A'] = df['A] + 'add_word'`\n",
    "    * 기존 df['A']의 요소 뒤에 'add_word'가 추가됨.  \n",
    "<br>\n",
    "\n",
    "* column을 추가하고 데이터 입력하기\n",
    "    * `df['add_column'] = 'False`\n",
    "    * `df.loc[df['A'] > 200, 'add_column'] = 'True'`  \n",
    "<br>  \n",
    "\n",
    "* column 위치 변경하기\n",
    "    * `df = df[['B', 'A', 'C']]`: 명시적 변경\n",
    "    * `df = df.reindex(columns=['B', 'A', 'C'])`: reindex 메소드\n",
    "    * 어떤것을 사용하던 상황에 맞게 사용하면 된다.\n",
    "\n"
   ]
  },
  {
   "cell_type": "markdown",
   "metadata": {},
   "source": [
    "____\n",
    "\n",
    "## 함수 적용"
   ]
  },
  {
   "cell_type": "markdown",
   "metadata": {},
   "source": [
    "* apply 메소드를 활용한 함수 적용\n",
    "    * `df['Sum'] = df.apply(some_function, axis=1)`\n",
    "    * axis=1일 경우 row / 0일 경우 column"
   ]
  },
  {
   "cell_type": "markdown",
   "metadata": {},
   "source": [
    "____\n",
    "\n",
    "## Groupby"
   ]
  },
  {
   "cell_type": "markdown",
   "metadata": {},
   "source": [
    "* 특정 칼럼에서 특정 데이터만 추출하기\n",
    "    * `df.groupby(\"A\").get_group(\"this\")`\n",
    "    * 'A'칼럼에 'this'데이터를 가진 rows 출력  \n",
    "<br>\n",
    "\n",
    "* groupby 기타 메서드\n",
    "    * `df.groupby(\"A\").mean()`: A칼럼 데이터의 평균치 출력\n",
    "    * `df.groupby(\"A\").size()`: A칼럼의 데이터 갯수(그룹의 크기) 출력\n",
    "    * `df.groupby(\"A\").size()['B']`: A칼럼의 B그룹 크기 출력\n",
    "    * `df.groupby(\"A\")[['one','two','three']].mean()`: A칼럼에 각각 데이터의 평균치 출력  \n",
    "<br>    \n",
    "\n",
    "* normalize 옵션\n",
    "    * `df.groupby('A')['B'].value_counts().loc['temp']`  \n",
    "    : df Dataframe에서 'A' column에 'temp'값을 가진 rows 중 'B' column의 데이터 갯수를 출력\n",
    "    * `df.groupby('A')['B'].value_counts(normalize=True).loc['temp']`  \n",
    "    : df Dataframe에서 'A' column에 'temp'값을 가진 rows 중 'B' column의 데이터 갯수를 **비율**로 출력\n"
   ]
  }
 ],
 "metadata": {
  "kernelspec": {
   "display_name": "Python 3",
   "language": "python",
   "name": "python3"
  },
  "language_info": {
   "codemirror_mode": {
    "name": "ipython",
    "version": 3
   },
   "file_extension": ".py",
   "mimetype": "text/x-python",
   "name": "python",
   "nbconvert_exporter": "python",
   "pygments_lexer": "ipython3",
   "version": "3.10.7"
  },
  "orig_nbformat": 4,
  "vscode": {
   "interpreter": {
    "hash": "4225bb6137ff0b7b155d720872316906473039233cefc1075b9b6dead87f8f6a"
   }
  }
 },
 "nbformat": 4,
 "nbformat_minor": 2
}
