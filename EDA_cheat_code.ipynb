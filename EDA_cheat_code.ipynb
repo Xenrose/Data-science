{
 "cells": [
  {
   "attachments": {},
   "cell_type": "markdown",
   "metadata": {},
   "source": [
    "# EDA시 기본 코드"
   ]
  },
  {
   "attachments": {},
   "cell_type": "markdown",
   "metadata": {},
   "source": [
    "ref: https://youtu.be/Yo9CTL0wOB8"
   ]
  },
  {
   "cell_type": "code",
   "execution_count": 4,
   "metadata": {},
   "outputs": [],
   "source": [
    "import pandas as pd\n",
    "import seaborn as sns\n",
    "import matplotlib as mpl\n",
    "import matplotlib.pyplot as pyplot\n",
    "\n",
    "mpl.rc('font', family='Malgun Gothic')"
   ]
  },
  {
   "cell_type": "code",
   "execution_count": 5,
   "metadata": {},
   "outputs": [],
   "source": [
    "from sklearn.model_selection import train_test_split\n",
    "from sklearn.model_selection import cross_val_score\n",
    "from sklearn.model_selection import GridSearchCV\n",
    "\n",
    "from sklearn.metrics import accuracy_score\n",
    "\n",
    "from sklearn.impute import SimpleImputer\n",
    "\n",
    "from sklearn.preprocessing import StandardScaler\n",
    "from sklearn.preprocessing import MinMaxScaler\n",
    "from sklearn.preprocessing import RobustScaler\n",
    "\n",
    "from sklearn.preprocessing import LabelEncoder\n",
    "\n",
    "from imblearn.under_sampling import RandomUnderSampler\n",
    "from imblearn.over_sampling import SMOTE\n",
    "\n",
    "from sklearn.pipeline import Pipeline\n"
   ]
  },
  {
   "attachments": {},
   "cell_type": "markdown",
   "metadata": {},
   "source": [
    "### train_test_split\n",
    "\n",
    "```\n",
    "from sklearn.model_selection import train_test_split\n",
    "\n",
    "X_train, X_test, Y_train, Y_test = train_test_split(X, Y, test_size=0.3, random_state= 42)\n",
    "```"
   ]
  },
  {
   "attachments": {},
   "cell_type": "markdown",
   "metadata": {},
   "source": [
    "### accuracy_score\n",
    "\n",
    "```\n",
    "from sklearn.metrics import accuracy_score\n",
    "\n",
    "Y_train_pred = best_model = best_model.predict(X_train)\n",
    "Y_test_pred = best_model = best_model.predict(X_test)\n",
    "\n",
    "accuracy_score(Y_train, Y_train_pred)\n",
    "accuracy_score(Y_test, Y_test_pred)\n",
    "```"
   ]
  },
  {
   "attachments": {},
   "cell_type": "markdown",
   "metadata": {},
   "source": [
    "## 특성 공학 (Feature Engineering)\n",
    "  - 특성 공학: 컴퓨터가 학습할 때, 일반화 된 수식을 도출할 수 있도록 데이터를 깔끔하게 다듬는 작업  \n",
    "\n",
    "\n",
    "\n",
    "1. Imputation (Missing Value에 대한 대치): 결측되어 있는 값을 다른 값(평균, 중앙, 최빈)으로 대치\n",
    "2. Scaling & Encoding:\n",
    "   * Scaling: 숫자데이터의 서로 다른 차원(Scale)을 맞춰주는 작업\n",
    "   * Encoding: 문자데이터를 숫자데이터로 변환\n",
    "3. Cross Validation: 데이터셋이 모두 학습에 참여할 수 있도록, 학습데이터 셋을 교차로 바꿔가며 학습을 진행하는 방법\n",
    "4. Hyper Parameter Tuning: 데이터를 학습할 때 발생하는 알고리즘의 수학적 구조를 사용자가 통제\n",
    "5. Sampling: 서로 다른 비율의 데이터를 맞춰주는 작업\n",
    "   * Under Sampling: 데이터의 비율이 적은쪽으로 데이터를 맞추는 작업\n",
    "   * Over Sampling: 데이터의 비율이 큰 쪽으로 데이터를 생성하는 작업"
   ]
  },
  {
   "attachments": {},
   "cell_type": "markdown",
   "metadata": {},
   "source": [
    "### Imputation\n",
    "\n",
    "```\n",
    "from sklearn.impute import SimpleImputer\n",
    "\n",
    "model_miss = SimpleImputer(stratege='mean' or 'median' or 'mode')\n",
    "model_miss.fit(df2)\n",
    "model_miss.transfrom(df2)\n",
    "```"
   ]
  },
  {
   "attachments": {},
   "cell_type": "markdown",
   "metadata": {},
   "source": [
    "### Scaling & Encoding:\n",
    "\n",
    "1. Scaling: 숫자 데이터의 서로 다른 차원(Sclae)을 맞춰주는 작업\n",
    "     1. Standard Scaling: 평균 0, 표준편차 1\n",
    "     2. Min Max Scaling: 최소값 0, 최대값 1\n",
    "     3. Roust Scaling: 중앙값 0, 사분범위 1  <--- 실무에서 자주 사용\n",
    "2. Encoding: 문자데이터를 숫자데이터로 변환\n",
    "     1. Label Encoding\n",
    "     2. One Hot Encoding\n",
    "\n",
    "\n",
    "* Scaling\n",
    "```\n",
    "from sklearn.preprocessing import StandardScaler\n",
    "from sklearn.preprocessing import MinMaxScaler\n",
    "from sklearn.preprocessing import RobustScaler\n",
    "\n",
    "scaler1 = StandardScaler()\n",
    "scaler2 = MinMaxScaler()\n",
    "scaler3 = RobustScaler()\n",
    "\n",
    "scaler.fit(df2)\n",
    "scaler.transform(df2)\n",
    "```\n",
    "\n",
    "* Encoding\n",
    "```\n",
    "from sklearn.preprocessing import LabelEncoder\n",
    "\n",
    "encoder = LabelEncoder()\n",
    "encoder.fit(df1)\n",
    "encoder.fit_transfrom(df1)\n",
    "\n",
    "\n",
    "[One Hot Encoding]\n",
    "from pandas as pd\n",
    "\n",
    "pd.get_dummies(df1)\n",
    "```"
   ]
  },
  {
   "attachments": {},
   "cell_type": "markdown",
   "metadata": {},
   "source": [
    "### Cross Validation\n",
    "\n",
    "* Cross Validation: 데이터를 번갈아가며, 학습 및 검증 작업 진행\n",
    "```\n",
    "from sklearn.model_selection import cross_val_score\n",
    "\n",
    "model = DecisionTreeClassifier()\n",
    "score = cross_val_score(model, X_train, Y_train, cv=5)\n",
    "\n",
    "\n",
    "import numpy as np\n",
    "np.mean(score)\n",
    "```"
   ]
  },
  {
   "attachments": {},
   "cell_type": "markdown",
   "metadata": {},
   "source": [
    "### Hyper Parameter Tuning\n",
    "\n",
    "* Hyper Parameter Tuning: 데이터를 학습할 때 발생하는 알고리즘의 수학적 구조를 사용자가 통제\n",
    "\n",
    "1. Random Search: 무작위로 알고리즘의 수학적 구조를 통제하여, 데이터셋에 적합한 수학적 구조를 생성\n",
    "2. Grid Search: 사용자가 설정한 임의의 알고리즘 구조를 통제하여, 데이터셋에 적합한 수학적 구조를 생성\n",
    "\n",
    "\n",
    "```\n",
    "from sklearn.model_selection import GridSearchCV\n",
    "from sklearn.metrics import accuracy_score\n",
    "\n",
    "model = DecisionTreeClassifier()\n",
    "\n",
    "Hyper_parameter = {'max_depth': [3,4,5,6,7,8]}\n",
    "grid_model = GridSearchCV(model, param_grid=hyper_parameter, cv=5)\n",
    "grid_model.fit(X_train, Y_train)\n",
    "\n",
    "best_model = grid_model.best_estimator_\n",
    "\n",
    "Y_train_pred = best_model.predict(X_train)\n",
    "Y_test_pred = best_model.predict(X_test)\n",
    "\n",
    "accuracy_score(Y_train, Y_train_pred)\n",
    "accuracy_score(Y_test, Y_test_pred)\n",
    "```\n"
   ]
  },
  {
   "attachments": {},
   "cell_type": "markdown",
   "metadata": {},
   "source": [
    "### Sampling\n",
    "\n",
    "* Sampling: 서로 다른 비율의 데이터를 맞춰주는 작업\n",
    "\n",
    "1. Under Sampling: 더 적은 데이터를 기준으로 Sampling 진행\n",
    "     * Random Under Sampling / Tomek's link\n",
    "2. Over Sampling: 더 많은 데이터를 기준으로 적은 데이터 군집의 가짜 데이터를 생성하여 Sampling 진행\n",
    "     * SMOTE, ADASYN, Random Over Sampling\n",
    "  \n",
    "<br>\n",
    "  \n",
    "* Under Sampling\n",
    "```\n",
    "from imblearn.under_sampling import RandomUnderSampler\n",
    "\n",
    "sampler = RandomUnderSampler()\n",
    "sampler.fit(X, Y)\n",
    "\n",
    "X_under, Y_under = sampler.fit_resample(X, Y)\n",
    "```\n",
    "\n",
    "* Over Sampling\n",
    "```\n",
    "from imblearn.over_sampling import SMOTE\n",
    "\n",
    "sampler = SMOTE()\n",
    "sampler.fit(X, Y)\n",
    "\n",
    "X_over, Y_over = sampler.fit_resample(X, Y)\n",
    "```"
   ]
  },
  {
   "attachments": {},
   "cell_type": "markdown",
   "metadata": {},
   "source": [
    "### Scikit Learn Pipe Line\n",
    "* 특성 공학과 학습을 동시에 수행 시킬 수 있는 구조\n",
    "\n",
    "Pipe line 구성\n",
    "   * Scaling/Impute/PCA + Model + HyperParameter Tuning + CV\n",
    "\n",
    "\n",
    "```\n",
    "from sklearn.pipeline import Pipeline\n",
    "\n",
    "pipe_list = [('impoute',SimpleImputer(strategy='mean')),\n",
    "             ('model', DecisionTreeClassifier())]\n",
    "pipe_model = Pipeline(pipe_list)\n",
    "\n",
    "pipe_model\n",
    "\n",
    "hyper_parameter = {'model__max_depth': [2,3,4,5,6,7,8]}\n",
    "\n",
    "grid_model = GridSearchCV(pipe_model, param_grid = hyper_parameter, cv = 3)\n",
    "grid_model.fit(X_train, Y_train)\n",
    "\n",
    "best_model = grid_model.best_estimator_\n",
    "\n",
    "\n",
    "Y_train_pred = best_model = best_model.predict(X_train)\n",
    "Y_test_pred = best_model = best_model.predict(X_test)\n",
    "\n",
    "accuracy_score(Y_train, Y_train_pred)\n",
    "accuracy_score(Y_test, Y_test_pred)\n",
    "```"
   ]
  },
  {
   "attachments": {},
   "cell_type": "markdown",
   "metadata": {},
   "source": [
    "# 주피터 노트북 기본 단축키"
   ]
  },
  {
   "attachments": {},
   "cell_type": "markdown",
   "metadata": {},
   "source": [
    "### Cell command mode\n",
    "\n",
    "#### [esc] or [Ctrl] + [m]을 눌러 cell command mode 진입\n",
    "\n",
    "* a: 위에 새로운 셀 추가\n",
    "* b: 아래 새로운 셀 추가\n",
    "* c: 셀 복사하기\n",
    "* v: 셀 붙여넣기\n",
    "* dd: 셀 삭제\n",
    "* p: 셀 아래 붙여넣기\n",
    "* o: 실행결과 열기/닫기\n",
    "* m: Markdown으로 변경\n",
    "* y: Code로 변경\n",
    "* Shift + m: 선택 셀과 아래 셀 병합\n",
    "* s / [Ctrl] + s: 파일 저장\n",
    "* [Enter]: Edit Mode로 돌아가기"
   ]
  },
  {
   "attachments": {},
   "cell_type": "markdown",
   "metadata": {},
   "source": [
    "### Cell edit mode\n",
    "\n",
    "* [Ctrl] + [Enter]: 입력 셀 실행\n",
    "* [Shift] + [Enter]: 입력 셀 실행 후 아래 셀 이동(없으면 새로운 셀 추가)\n",
    "* [Alt] + [Enter]: 입력영역 실행 후 아래 새로운 영역 추가\n",
    "* [Ctrl] + [a]: 선택 셀의 코드 전체 선택\n",
    "* [Ctrl] + [z]: 선택 셀 내 실행 취소\n",
    "* [Ctrl] + [y]: 선택 셀 내 다시 실행\n",
    "* [Ctrl] + [/]: 커서 위치 라인 주석처리\n",
    "* [Shift] + [Ctrl] + [-]: 커서 위치에서 셀 둘로 나누기"
   ]
  },
  {
   "attachments": {},
   "cell_type": "markdown",
   "metadata": {},
   "source": []
  }
 ],
 "metadata": {
  "kernelspec": {
   "display_name": "Python 3",
   "language": "python",
   "name": "python3"
  },
  "language_info": {
   "codemirror_mode": {
    "name": "ipython",
    "version": 3
   },
   "file_extension": ".py",
   "mimetype": "text/x-python",
   "name": "python",
   "nbconvert_exporter": "python",
   "pygments_lexer": "ipython3",
   "version": "3.10.7"
  },
  "orig_nbformat": 4,
  "vscode": {
   "interpreter": {
    "hash": "4225bb6137ff0b7b155d720872316906473039233cefc1075b9b6dead87f8f6a"
   }
  }
 },
 "nbformat": 4,
 "nbformat_minor": 2
}
