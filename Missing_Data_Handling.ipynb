{
 "cells": [
  {
   "attachments": {},
   "cell_type": "markdown",
   "metadata": {},
   "source": [
    "# Missing_Data_Handling"
   ]
  },
  {
   "attachments": {},
   "cell_type": "markdown",
   "metadata": {},
   "source": [
    "ref: \n",
    "1. Chat-gpt\n",
    "2. https://subinium.github.io/missing-data-handling/\n",
    "3. https://dining-developer.tistory.com/19\n",
    "4. https://velog.io/@jee-9/%EA%B2%B0%EC%B8%A1%EC%B9%98Nulls-%EC%B2%98%EB%A6%AC%EC%97%90-%EB%8C%80%ED%95%B4%EC%84%9C-Imputation-Single-MICE\n",
    "5. https://cheris8.github.io/data%20analysis/DP-NA-Imputation/\n",
    "6. https://eda-ai-lab.tistory.com/14"
   ]
  },
  {
   "attachments": {},
   "cell_type": "markdown",
   "metadata": {},
   "source": [
    "## 1. 결측치의 종류"
   ]
  },
  {
   "attachments": {},
   "cell_type": "markdown",
   "metadata": {},
   "source": [
    "* 결측치 특징\n",
    "    1. 데이터셋에 특정 변수 또는 관측치에 대한 값이 누락되거나 없는 경우. 'Null' 혹은 'Nan'으로 표기됨.\n",
    "    2. 결측치 처리를 안할 경우 데이터 분석 및 모델링에 왜곡된 결과를 가져올 수 있음.  \n",
    "    3. 데이터 전처리 단계에서 처리되는 데이터.\n"
   ]
  },
  {
   "attachments": {},
   "cell_type": "markdown",
   "metadata": {},
   "source": [
    "* 결측치의 종류\n",
    "    1. 완전 무작위 결측치 (MCAR: Missing Completely At Random)\n",
    "    2. 무작위 결측치 (MAR: Missing At Random)\n",
    "    3. 비무작위 결측치 (MNAR: Missing Not At Random)"
   ]
  },
  {
   "attachments": {},
   "cell_type": "markdown",
   "metadata": {},
   "source": [
    "### 완전 무작위 결측치 (MCAR)\n",
    "\n",
    "* 결측치 발생이 다른 변수들과 아무런 관련이 없음.\n",
    "* 완전 무작위로 발생\n",
    "* 수집 과정에서 발생하는 오류\n",
    "* 대부분의 결측치 패키지는 MCAR을 대상으로한 패키지임.\n",
    "\n",
    "<br>\n",
    "\n",
    "### 무작위 결측치 (MAR)\n",
    "\n",
    "* 결측치 발생이 해당 변수(결측치가 발생한)와는 관계가 없으며 다른 변수들과 연관되어 있음.\n",
    "* 특정 패턴이나 규칙성을 갖지 않음. (상관관계가 없음)\n",
    "* 주로 설문 비응답/응답 거부로 인해 발생 \n",
    "* ex) '성별에 따른 연봉 설문조사'에서 '성별'을 기입하지 않은 경우\n",
    "    * 해당 조사에서 결측치 발생이 결측치(성별)에는 관계가 없으나 다른 변수(연봉)에는 연관되어 있음.\n",
    "\n",
    "<br>\n",
    "\n",
    "### 비무작위 결측치 (MCAR)\n",
    "\n",
    "* 결측치 발생이 해당 변수(결측치가 발생한)와는 관계가 있으며 다른 변수들과 연관되어 있음.\n",
    "    * ex) Y변수가 결측될 확률이 Y자체의 관찰되지 않은 값에 연관이 있음.\n",
    "* 주로 사회 경제적 요인이나 심리적 요인에 의해 발생\n",
    "* 결측치가 특정한 패턴이나 규칙성을 갖음. (상관관계가 있음)\n",
    "* 데이터의 왜곡을 일으킬 수 있으며, 적절한 대체 방법을 선택하기 위해서 데이터 특성과 결측치 발생 원인을 이해해야함.\n",
    "* ex) 서비스에 불만족한 고객들은 애초에 만족도 설문에 응하지 않음\n"
   ]
  },
  {
   "attachments": {},
   "cell_type": "markdown",
   "metadata": {},
   "source": [
    "### . 결측치 처리 방법 선택\n",
    "\n",
    "|결측치 비율|결측치 처리 방법|\n",
    "|--|--|\n",
    "|10% 미만|제거 or 대체|\n",
    "|10% 이상|모델 기반 처리|"
   ]
  },
  {
   "attachments": {},
   "cell_type": "markdown",
   "metadata": {},
   "source": []
  },
  {
   "attachments": {},
   "cell_type": "markdown",
   "metadata": {},
   "source": []
  },
  {
   "attachments": {},
   "cell_type": "markdown",
   "metadata": {},
   "source": []
  },
  {
   "attachments": {},
   "cell_type": "markdown",
   "metadata": {},
   "source": []
  },
  {
   "attachments": {},
   "cell_type": "markdown",
   "metadata": {},
   "source": []
  },
  {
   "attachments": {},
   "cell_type": "markdown",
   "metadata": {},
   "source": []
  },
  {
   "attachments": {},
   "cell_type": "markdown",
   "metadata": {},
   "source": []
  }
 ],
 "metadata": {
  "kernelspec": {
   "display_name": "Python 3",
   "language": "python",
   "name": "python3"
  },
  "language_info": {
   "codemirror_mode": {
    "name": "ipython",
    "version": 3
   },
   "file_extension": ".py",
   "mimetype": "text/x-python",
   "name": "python",
   "nbconvert_exporter": "python",
   "pygments_lexer": "ipython3",
   "version": "3.10.7"
  },
  "orig_nbformat": 4,
  "vscode": {
   "interpreter": {
    "hash": "4225bb6137ff0b7b155d720872316906473039233cefc1075b9b6dead87f8f6a"
   }
  }
 },
 "nbformat": 4,
 "nbformat_minor": 2
}
