{
 "cells": [
  {
   "attachments": {},
   "cell_type": "markdown",
   "metadata": {},
   "source": [
    "# pandas cheat code (Series와 Dataframe의 기초)\n",
    "\n",
    "## index\n",
    "* Series & Dataframe\n",
    "* Basic mathod\n",
    "* Column basic handling \n",
    "* Data grouping\n",
    "* Series basic\n",
    "* Dataframe basic\n",
    "* Data Save & Load"
   ]
  },
  {
   "cell_type": "code",
   "execution_count": 1,
   "metadata": {},
   "outputs": [],
   "source": [
    "import pandas as pd"
   ]
  },
  {
   "attachments": {},
   "cell_type": "markdown",
   "metadata": {},
   "source": [
    "____\n",
    "\n",
    "## Series & Dataframe"
   ]
  },
  {
   "attachments": {},
   "cell_type": "markdown",
   "metadata": {},
   "source": [
    "- Series: Column in excel\n",
    "- Dataframe: Sheet in excel\n",
    "- Dataframe = one or more Series"
   ]
  },
  {
   "cell_type": "code",
   "execution_count": 2,
   "metadata": {},
   "outputs": [
    {
     "data": {
      "text/html": [
       "<div>\n",
       "<style scoped>\n",
       "    .dataframe tbody tr th:only-of-type {\n",
       "        vertical-align: middle;\n",
       "    }\n",
       "\n",
       "    .dataframe tbody tr th {\n",
       "        vertical-align: top;\n",
       "    }\n",
       "\n",
       "    .dataframe thead th {\n",
       "        text-align: right;\n",
       "    }\n",
       "</style>\n",
       "<table border=\"1\" class=\"dataframe\">\n",
       "  <thead>\n",
       "    <tr style=\"text-align: right;\">\n",
       "      <th></th>\n",
       "      <th>A</th>\n",
       "      <th>B</th>\n",
       "      <th>C</th>\n",
       "    </tr>\n",
       "  </thead>\n",
       "  <tbody>\n",
       "    <tr>\n",
       "      <th>0</th>\n",
       "      <td>1</td>\n",
       "      <td>4</td>\n",
       "      <td>7</td>\n",
       "    </tr>\n",
       "    <tr>\n",
       "      <th>1</th>\n",
       "      <td>2</td>\n",
       "      <td>5</td>\n",
       "      <td>8</td>\n",
       "    </tr>\n",
       "    <tr>\n",
       "      <th>2</th>\n",
       "      <td>3</td>\n",
       "      <td>6</td>\n",
       "      <td>9</td>\n",
       "    </tr>\n",
       "  </tbody>\n",
       "</table>\n",
       "</div>"
      ],
      "text/plain": [
       "   A  B  C\n",
       "0  1  4  7\n",
       "1  2  5  8\n",
       "2  3  6  9"
      ]
     },
     "execution_count": 2,
     "metadata": {},
     "output_type": "execute_result"
    }
   ],
   "source": [
    "# Create Series\n",
    "s1 = pd.Series([1, 2, 3], name='A')\n",
    "s2 = pd.Series([4, 5, 6], name='B')\n",
    "s3 = pd.Series([7, 8, 9], name='C')\n",
    "\n",
    "# Create DataFrame from Series\n",
    "df = pd.DataFrame({'A': s1, 'B': s2, 'C': s3})\n",
    "\n",
    "df"
   ]
  },
  {
   "attachments": {},
   "cell_type": "markdown",
   "metadata": {},
   "source": [
    "____\n",
    "## basics mathod for type of Dataframe "
   ]
  },
  {
   "attachments": {},
   "cell_type": "markdown",
   "metadata": {},
   "source": [
    "`df.head(num)` - 상위 num개 row를 확인 (defalut = 5)\n",
    "\n",
    "\n",
    "`df.tail(num)` - 상위 num개 column를 확인 (defalut = 5)\n",
    "\n",
    "\n",
    "`df.shape` - dateframe의 row, column 수를 출력\n",
    "\n",
    "\n",
    "`df.columns` - dataframe의 column 이름들을 출력\n",
    "\n",
    "\n",
    "`df.info()` - dateframe의 정보를 출력\n",
    "\n",
    "\n",
    "`df.dtype()` - dateframe의 data type 출력\n"
   ]
  },
  {
   "attachments": {},
   "cell_type": "markdown",
   "metadata": {},
   "source": [
    "|판다스 자료형|파이썬자료형|설명|\n",
    "|--|--|--|\n",
    "|object|string|문자열|\n",
    "|int64|int|정수|\n",
    "|float64|float|소수점을 가진 숫자|\n",
    "|dateitme64|datetime|파이썬 표준 라이브러리인 datetime이 반환하는 자료형|"
   ]
  },
  {
   "cell_type": "markdown",
   "metadata": {},
   "source": [
    "#### Data의 이해\n",
    "  \n",
    "`df.values` = DataFrame의 모든 데이터 출력  \n",
    "`df.index` = DataFrame의 모든 index 출력  \n",
    "`df.columns` = DataFrame의 모든 columns 출력  \n",
    "`df.shape` = DataFrame의 Shape 값 출력  \n"
   ]
  },
  {
   "attachments": {},
   "cell_type": "markdown",
   "metadata": {},
   "source": [
    "____\n",
    "## Column data extract"
   ]
  },
  {
   "attachments": {},
   "cell_type": "markdown",
   "metadata": {},
   "source": [
    "`temp_df = df['columns_name']`\n",
    "- temp_df 변수에 df의 columns_name이라는 열의 속성을 초기화 \n",
    "- Series type으로 Series 메소드 전부 사용 가능. (ex. `temp_df.head()`)\n",
    "- <class 'pandas.core.series.Series'>\n",
    "\n"
   ]
  },
  {
   "attachments": {},
   "cell_type": "markdown",
   "metadata": {},
   "source": [
    "`subset_df = df[['columns_name1','columns_name2','columns_name3']]`<br>\n",
    "`subset_df = df[list(columns)]`\n",
    "- list type의 columns_name을 parameter로 전달하여 Dataframe type의 변수 초기화 가능\n",
    "- subset_df 변수에 df의 colums_name1, colums_name2, colums_name3 이라는 열들의 속성을 초기화 \n",
    "- Dataframe type으로 Dataframe 메소드 전부 사용 가능. (ex. `subset_df.head()`)\n",
    "- <class 'pandas.core.frame.DataFrame'>\n",
    "\n"
   ]
  },
  {
   "attachments": {},
   "cell_type": "markdown",
   "metadata": {},
   "source": [
    "____\n",
    "## row data extract"
   ]
  },
  {
   "attachments": {},
   "cell_type": "markdown",
   "metadata": {},
   "source": [
    "### extract by index"
   ]
  },
  {
   "attachments": {},
   "cell_type": "markdown",
   "metadata": {},
   "source": [
    "`df.loc[index]`<br>\n",
    "`df.loc[df.shape[0]-1]` * 최하단 row\n",
    "- df의 index 기준으로 행 데이터 추출\n",
    "- Series, Dataframe 메소드 사용 가능\n",
    "\n",
    "\n",
    "`df.loc[[1,2,3,4]]`\n",
    "`df.loc[list(index_list)]`\n",
    "- several row 출력 가능"
   ]
  },
  {
   "attachments": {},
   "cell_type": "markdown",
   "metadata": {},
   "source": [
    "### extract by row number"
   ]
  },
  {
   "attachments": {},
   "cell_type": "markdown",
   "metadata": {},
   "source": [
    "`df.iloc[row]`<br>\n",
    "`df.iloc[-1]` * 최하단 row\n",
    "- df의 row number 기준으로 행 데이터 추출\n",
    "- Series, Dataframe 메소드 사용 가능\n",
    "\n",
    "\n",
    "`df.iloc[[1,2,3,4]]`\n",
    "`df.iloc[list(row_list)]`\n",
    "- several row 출력 가능"
   ]
  },
  {
   "attachments": {},
   "cell_type": "markdown",
   "metadata": {},
   "source": [
    "____\n",
    "## extract by slicing and range mathod\n"
   ]
  },
  {
   "attachments": {},
   "cell_type": "markdown",
   "metadata": {},
   "source": [
    "### by slicing"
   ]
  },
  {
   "attachments": {},
   "cell_type": "markdown",
   "metadata": {},
   "source": [
    "`subset_df = df.loc[:, ['column_name1', 'column_name2']]`\n",
    "- 모든 행 [:] / 특정 열 ['column_name1', 'column_name2'] 데이터 출력\n",
    "\n",
    "\n",
    "`subset_df = df.iloc[:, [2, 4, -1]]`\n",
    "- 모든 행 [:] / 특정 열 [2, 4, -1] 데이터 출력"
   ]
  },
  {
   "attachments": {},
   "cell_type": "markdown",
   "metadata": {},
   "source": [
    "### by range mathod"
   ]
  },
  {
   "attachments": {},
   "cell_type": "markdown",
   "metadata": {},
   "source": [
    "```\n",
    "temp_list = list(range(1,10,2))\n",
    "subsetr_df = df.iloc[:,temp_list]\n",
    "```\n",
    "\n",
    "\n",
    "- 모든 행[:] / temp_list를 입력받아 해당 열 데이터 출력"
   ]
  },
  {
   "attachments": {},
   "cell_type": "markdown",
   "metadata": {},
   "source": [
    "### by slicing like range mathod"
   ]
  },
  {
   "attachments": {},
   "cell_type": "markdown",
   "metadata": {},
   "source": [
    "`subset_df = df.iloc[:, 0:6:2]`<br>\n",
    "`subset_df = df.iloc[:, :6:2]`<br>\n",
    "`subset_df = df.iloc[:, list(range(0,6,2))]`\n",
    "- 모든 행[:] / 0~6까지 2 단위로 열 데이터 출력\n",
    "\n",
    "\n",
    "`subset_df = df.iloc[1:10:3, :6:2]`\n",
    "- 1~10까지 3 단위로 행 데이터 / 0~6까지 2 단위로 열 데이터 출력"
   ]
  },
  {
   "attachments": {},
   "cell_type": "markdown",
   "metadata": {},
   "source": [
    "____\n",
    "## Data grouping and calculate mean by groupby mathod"
   ]
  },
  {
   "attachments": {},
   "cell_type": "markdown",
   "metadata": {},
   "source": [
    "### single grouping"
   ]
  },
  {
   "attachments": {},
   "cell_type": "markdown",
   "metadata": {},
   "source": [
    "`df.groupby('year')['lifeExp'].mean()`\n",
    "- 'year' column의 같은 값의 lifeExp 값들을 그룹화한 뒤 그것의 평균을 return 하는 코드\n",
    "- 위 과정을 하나하나 세분화 시킨것은 아래와 같습니다.\n",
    "\n",
    "1. `grouped_year_df = df.groupby('year')` - <class 'pandas.core.groupby.groupby.DataFrameGroupBy'>\n",
    "2. `grouped_year_df_lifeExp = grouped_year_df['lifeExp'] ` - <pandas.core.groupby.groupby.DataFrameGroupBy object at 0x0000028E8CCD2278>\n",
    "3. `mean_lifeExp_by_year = grouped_year_df_lifeExp.mean() ` - <class 'pandas.core.groupby.groupby.SeriesGroupBy'>"
   ]
  },
  {
   "attachments": {},
   "cell_type": "markdown",
   "metadata": {},
   "source": [
    "#### 예시/전체 Dataframe\n",
    "```\n",
    "       country continent  year  lifeExp       pop   gdpPercap\n",
    "0  Afghanistan      Asia  1952   28.801   8425333  779.445314\n",
    "1  Afghanistan      Asia  1957   30.332   9240934  820.853030\n",
    "2  Afghanistan      Asia  1962   31.997  10267083  853.100710\n",
    "3  Afghanistan      Asia  1967   34.020  11537966  836.197138\n",
    "4  Afghanistan      Asia  1972   36.088  13079460  739.981106\n",
    "5  Afghanistan      Asia  1977   38.438  14880372  786.113360\n",
    "6  Afghanistan      Asia  1982   39.854  12881816  978.011439\n",
    "7  Afghanistan      Asia  1987   40.822  13867957  852.395945\n",
    "8  Afghanistan      Asia  1992   41.674  16317921  649.341395\n",
    "9  Afghanistan      Asia  1997   41.763  22227415  635.341351\n",
    "```\n",
    "\n",
    "\n",
    "#### df.groupby('year')['lifeExp'].mean()\n",
    "```\n",
    "year\n",
    "1952    49.057620\n",
    "1957    51.507401\n",
    "1962    53.609249\n",
    "1967    55.678290\n",
    "1972    57.647386\n",
    "1977    59.570157\n",
    "1982    61.533197\n",
    "1987    63.212613\n",
    "1992    64.160338\n",
    "1997    65.014676\n",
    "2002    65.694923\n",
    "2007    67.007423\n",
    "Name: lifeExp, dtype: float64\n",
    "```"
   ]
  },
  {
   "attachments": {},
   "cell_type": "markdown",
   "metadata": {},
   "source": [
    "### multiple grouping"
   ]
  },
  {
   "attachments": {},
   "cell_type": "markdown",
   "metadata": {},
   "source": [
    "`df.groupby(['continent', 'year'])[['lifeExp', 'gdpPercap']].mean()`\n",
    "- 'year', 'continet'열로 그룹화한 그룹 dataframe에서 lifeExp, gdpPercap 열만 추출하여 평균 값을 return 하는 코드"
   ]
  },
  {
   "attachments": {},
   "cell_type": "markdown",
   "metadata": {},
   "source": [
    "#### multi_group_var = df.groupby(['year', 'continent'])[['lifeExp', 'gdpPercap']].mean() \n",
    "```\n",
    "year continent                         \n",
    "1952 Africa     39.135500   1252.572466\n",
    "     Americas   53.279840   4079.062552\n",
    "     Asia       46.314394   5195.484004\n",
    "     Europe     64.408500   5661.057435\n",
    "     Oceania    69.255000  10298.085650\n",
    "1957 Africa     41.266346   1385.236062\n",
    "     Americas   55.960280   4616.043733\n",
    "     Asia       49.318544   5787.732940\n",
    "     Europe     66.703067   6963.012816\n",
    "     Oceania    70.295000  11598.522455\n",
    "1962 Africa     43.319442   1598.078825\n",
    "     Americas   58.398760   4901.541870\n",
    "     Asia       51.563223   5729.369625\n",
    "     Europe     68.539233   8365.486814\n",
    "     Oceania    71.085000  12696.452430\n",
    "1967 Africa     45.334538   2050.363801\n",
    "     Americas   60.410920   5668.253496\n",
    "     Asia       54.663640   5971.173374\n",
    "     Europe     69.737600  10143.823757\n",
    "     Oceania    71.310000  14495.021790\n",
    "1972 Africa     47.450942   2339.615674\n",
    "     Americas   62.394920   6491.334139\n",
    "     Asia       57.319269   8187.468699\n",
    "...\n",
    "     Americas   73.608120  11003.031625\n",
    "     Asia       70.728485  12473.026870\n",
    "     Europe     77.648600  25054.481636\n",
    "     Oceania    80.719500  29810.188275     \n",
    "```"
   ]
  },
  {
   "attachments": {},
   "cell_type": "markdown",
   "metadata": {},
   "source": [
    "#### multi_group_var = df.groupby(['continent', 'year'])[['lifeExp', 'gdpPercap']].mean() \n",
    "- 핵심은 groupby 바로 다음 column의 순서이다. 순서에 따라 그룹화 우선순위가 정해진다.\n",
    "```\n",
    "continent year                         \n",
    "Africa    1952  39.135500   1252.572466\n",
    "          1957  41.266346   1385.236062\n",
    "          1962  43.319442   1598.078825\n",
    "          1967  45.334538   2050.363801\n",
    "          1972  47.450942   2339.615674\n",
    "          1977  49.580423   2585.938508\n",
    "          1982  51.592865   2481.592960\n",
    "          1987  53.344788   2282.668991\n",
    "          1992  53.629577   2281.810333\n",
    "          1997  53.598269   2378.759555\n",
    "          2002  53.325231   2599.385159\n",
    "          2007  54.806038   3089.032605\n",
    "Americas  1952  53.279840   4079.062552\n",
    "          1957  55.960280   4616.043733\n",
    "          1962  58.398760   4901.541870\n",
    "          1967  60.410920   5668.253496\n",
    "          1972  62.394920   6491.334139\n",
    "          1977  64.391560   7352.007126\n",
    "          1982  66.228840   7506.737088\n",
    "          1987  68.090720   7793.400261\n",
    "          1992  69.568360   8044.934406\n",
    "          1997  71.150480   8889.300863\n",
    "          2002  72.422040   9287.677107\n",
    "...\n",
    "          1992  76.945000  20894.045885\n",
    "          1997  78.190000  24024.175170\n",
    "          2002  79.740000  26938.778040\n",
    "          2007  80.719500  29810.188275\n",
    "```"
   ]
  },
  {
   "attachments": {},
   "cell_type": "markdown",
   "metadata": {},
   "source": [
    "### groupby nunique() mathod"
   ]
  },
  {
   "attachments": {},
   "cell_type": "markdown",
   "metadata": {},
   "source": [
    "`df.groupby('continent')['country'].nunique()`\n",
    "- 그룹화한 데이터의 개수가 몇 개인지 알아보는 mathod / 통계에서는 '빈도수'라고 부른다.\n",
    "- 'continent' column에서 country의 고유 요소 갯수를 return 해주는 mathod\n",
    "\n",
    "#### 출력\n",
    "```\n",
    "continent\n",
    "Africa      52\n",
    "Americas    25\n",
    "Asia        33\n",
    "Europe      30\n",
    "Oceania      2\n",
    "Name: country, dtype: int64\n",
    "```\n"
   ]
  },
  {
   "attachments": {},
   "cell_type": "markdown",
   "metadata": {},
   "source": [
    "____\n",
    "## create Series and Dataframe"
   ]
  },
  {
   "attachments": {},
   "cell_type": "markdown",
   "metadata": {},
   "source": [
    "### create Series"
   ]
  },
  {
   "attachments": {},
   "cell_type": "markdown",
   "metadata": {},
   "source": [
    "#### 기본형\n",
    "```\n",
    "s = pd.Series(['banana', 42])\n",
    "\n",
    "\n",
    "0    banana\n",
    "1        42\n",
    "dtype: object\n",
    "```"
   ]
  },
  {
   "attachments": {},
   "cell_type": "markdown",
   "metadata": {},
   "source": [
    "#### 기본형 (index 설정)\n",
    "```\n",
    "s = pd.Series(['Wes McKinney', 'Creator of Pandas'], index=['Person', 'Who'])\n",
    "\n",
    "\n",
    "Person         Wes McKinney\n",
    "Who       Creator of Pandas\n",
    "dtype: object\n",
    "```"
   ]
  },
  {
   "attachments": {},
   "cell_type": "markdown",
   "metadata": {},
   "source": [
    "### create Dataframe"
   ]
  },
  {
   "attachments": {},
   "cell_type": "markdown",
   "metadata": {},
   "source": [
    "#### 기본형"
   ]
  },
  {
   "cell_type": "code",
   "execution_count": 3,
   "metadata": {},
   "outputs": [
    {
     "data": {
      "text/html": [
       "<div>\n",
       "<style scoped>\n",
       "    .dataframe tbody tr th:only-of-type {\n",
       "        vertical-align: middle;\n",
       "    }\n",
       "\n",
       "    .dataframe tbody tr th {\n",
       "        vertical-align: top;\n",
       "    }\n",
       "\n",
       "    .dataframe thead th {\n",
       "        text-align: right;\n",
       "    }\n",
       "</style>\n",
       "<table border=\"1\" class=\"dataframe\">\n",
       "  <thead>\n",
       "    <tr style=\"text-align: right;\">\n",
       "      <th></th>\n",
       "      <th>Name</th>\n",
       "      <th>Occupation</th>\n",
       "      <th>Born</th>\n",
       "      <th>Died</th>\n",
       "      <th>Age</th>\n",
       "    </tr>\n",
       "  </thead>\n",
       "  <tbody>\n",
       "    <tr>\n",
       "      <th>0</th>\n",
       "      <td>Rosaline Franklin</td>\n",
       "      <td>Chemist</td>\n",
       "      <td>1920-07-25</td>\n",
       "      <td>1958-04-16</td>\n",
       "      <td>37</td>\n",
       "    </tr>\n",
       "    <tr>\n",
       "      <th>1</th>\n",
       "      <td>William Gosset</td>\n",
       "      <td>Statistician</td>\n",
       "      <td>1876-06-13</td>\n",
       "      <td>1937-10-16</td>\n",
       "      <td>61</td>\n",
       "    </tr>\n",
       "  </tbody>\n",
       "</table>\n",
       "</div>"
      ],
      "text/plain": [
       "                Name    Occupation        Born        Died  Age\n",
       "0  Rosaline Franklin       Chemist  1920-07-25  1958-04-16   37\n",
       "1     William Gosset  Statistician  1876-06-13  1937-10-16   61"
      ]
     },
     "execution_count": 3,
     "metadata": {},
     "output_type": "execute_result"
    }
   ],
   "source": [
    "scientists = pd.DataFrame({ \n",
    "    'Name': ['Rosaline Franklin', 'William Gosset'], \n",
    "    'Occupation': ['Chemist', 'Statistician'], \n",
    "    'Born': ['1920-07-25', '1876-06-13'], \n",
    "    'Died': ['1958-04-16', '1937-10-16'], \n",
    "    'Age': [37, 61]}) \n",
    "\n",
    "scientists"
   ]
  },
  {
   "attachments": {},
   "cell_type": "markdown",
   "metadata": {},
   "source": [
    "### Index 설정"
   ]
  },
  {
   "cell_type": "code",
   "execution_count": 4,
   "metadata": {},
   "outputs": [
    {
     "data": {
      "text/html": [
       "<div>\n",
       "<style scoped>\n",
       "    .dataframe tbody tr th:only-of-type {\n",
       "        vertical-align: middle;\n",
       "    }\n",
       "\n",
       "    .dataframe tbody tr th {\n",
       "        vertical-align: top;\n",
       "    }\n",
       "\n",
       "    .dataframe thead th {\n",
       "        text-align: right;\n",
       "    }\n",
       "</style>\n",
       "<table border=\"1\" class=\"dataframe\">\n",
       "  <thead>\n",
       "    <tr style=\"text-align: right;\">\n",
       "      <th></th>\n",
       "      <th>Occupation</th>\n",
       "      <th>Born</th>\n",
       "      <th>Died</th>\n",
       "      <th>Age</th>\n",
       "    </tr>\n",
       "  </thead>\n",
       "  <tbody>\n",
       "    <tr>\n",
       "      <th>Rosaline Franklin</th>\n",
       "      <td>Chemist</td>\n",
       "      <td>1920-07-25</td>\n",
       "      <td>1958-04-16</td>\n",
       "      <td>37</td>\n",
       "    </tr>\n",
       "    <tr>\n",
       "      <th>William Gosset</th>\n",
       "      <td>Statistician</td>\n",
       "      <td>1876-06-13</td>\n",
       "      <td>1937-10-16</td>\n",
       "      <td>61</td>\n",
       "    </tr>\n",
       "  </tbody>\n",
       "</table>\n",
       "</div>"
      ],
      "text/plain": [
       "                     Occupation        Born        Died  Age\n",
       "Rosaline Franklin       Chemist  1920-07-25  1958-04-16   37\n",
       "William Gosset     Statistician  1876-06-13  1937-10-16   61"
      ]
     },
     "execution_count": 4,
     "metadata": {},
     "output_type": "execute_result"
    }
   ],
   "source": [
    "scientists = pd.DataFrame(\n",
    "data={'Occupation': ['Chemist', 'Statistician'], \n",
    "        'Born': ['1920-07-25', '1876-06-13'], \n",
    "        'Died': ['1958-04-16', '1937-10-16'],\n",
    "        'Age': [37, 61]},\n",
    "index=['Rosaline Franklin', 'William Gosset'],\n",
    "columns=['Occupation', 'Born', 'Died', 'Age']) \n",
    "\n",
    "scientists"
   ]
  },
  {
   "cell_type": "markdown",
   "metadata": {},
   "source": [
    "* index 이름 설정  \n",
    "`df.index.name = \"idx\"`  \n",
    "\n",
    "* index 초기화 (기존 사용하던 index는 옆 column으로 이동하고 새로운 index 사용)  \n",
    "`df.reset_index()`  \n",
    "\n",
    "* index 초기화(기존 사용하던 index 삭제)  \n",
    "`df.reset_index(drop=True)`  \n",
    "\n",
    "* 특정 column을 index로 설정  \n",
    "`df.set_index('column_name')`  \n",
    "\n",
    "* index 기준 정렬  \n",
    "`df.sort_index()` (오름차순)  \n",
    "`df.sort_index(ascending=False)` 내림차순  \n",
    "\n",
    "* 위 코드는 전부 seed data에 반영이 되지 않으며 파라미터로 `inplace=True` 옵션을 넣어주면 seed data에 반영이 된다."
   ]
  },
  {
   "attachments": {},
   "cell_type": "markdown",
   "metadata": {},
   "source": [
    "____\n",
    "## Series basic1"
   ]
  },
  {
   "attachments": {},
   "cell_type": "markdown",
   "metadata": {},
   "source": [
    "### Series index"
   ]
  },
  {
   "cell_type": "code",
   "execution_count": 5,
   "metadata": {},
   "outputs": [
    {
     "name": "stdout",
     "output_type": "stream",
     "text": [
      "Index(['Rosaline Franklin', 'William Gosset'], dtype='object')\n",
      "Rosaline Franklin\n"
     ]
    }
   ],
   "source": [
    "print(scientists.index)\n",
    "print(scientists.index[0])"
   ]
  },
  {
   "attachments": {},
   "cell_type": "markdown",
   "metadata": {},
   "source": [
    "### Series value"
   ]
  },
  {
   "cell_type": "code",
   "execution_count": 6,
   "metadata": {},
   "outputs": [
    {
     "name": "stdout",
     "output_type": "stream",
     "text": [
      "[['Chemist' '1920-07-25' '1958-04-16' 37]\n",
      " ['Statistician' '1876-06-13' '1937-10-16' 61]]\n"
     ]
    }
   ],
   "source": [
    "print(scientists.values)"
   ]
  },
  {
   "attachments": {},
   "cell_type": "markdown",
   "metadata": {},
   "source": [
    "### Series key"
   ]
  },
  {
   "cell_type": "code",
   "execution_count": 7,
   "metadata": {},
   "outputs": [
    {
     "name": "stdout",
     "output_type": "stream",
     "text": [
      "Index(['Occupation', 'Born', 'Died', 'Age'], dtype='object')\n",
      "Occupation\n"
     ]
    }
   ],
   "source": [
    "print(scientists.keys())\n",
    "print(scientists.keys()[0])"
   ]
  },
  {
   "attachments": {},
   "cell_type": "markdown",
   "metadata": {},
   "source": [
    "### mean, min, max, std mathod"
   ]
  },
  {
   "cell_type": "code",
   "execution_count": 8,
   "metadata": {},
   "outputs": [
    {
     "data": {
      "text/plain": [
       "Rosaline Franklin    37\n",
       "William Gosset       61\n",
       "Name: Age, dtype: int64"
      ]
     },
     "execution_count": 8,
     "metadata": {},
     "output_type": "execute_result"
    }
   ],
   "source": [
    "ages = scientists['Age'] \n",
    "\n",
    "ages"
   ]
  },
  {
   "cell_type": "code",
   "execution_count": 9,
   "metadata": {},
   "outputs": [
    {
     "name": "stdout",
     "output_type": "stream",
     "text": [
      "mean:  49.0\n",
      "min:  37\n",
      "max:  61\n",
      "std:  16.97056274847714\n"
     ]
    }
   ],
   "source": [
    "print(\"mean: \",ages.mean())\n",
    "print(\"min: \",ages.min())\n",
    "print(\"max: \",ages.max())\n",
    "print(\"std: \",ages.std())"
   ]
  },
  {
   "attachments": {},
   "cell_type": "markdown",
   "metadata": {},
   "source": [
    "### another Series mathod"
   ]
  },
  {
   "attachments": {},
   "cell_type": "markdown",
   "metadata": {},
   "source": [
    "|Series mathod|Described|\n",
    "|--|--|\n",
    "|append|two Series linked|\n",
    "|describe|calculate summary statics|\n",
    "|drop_duplicates|Remove duplicate rows|\n",
    "|equals|verify the equality between two Dataframe|\n",
    "|get_values|Series value return|\n",
    "|isin|verify the equality of values between two Series|\n",
    "|min|minimum value return|\n",
    "|max|maximum value return|\n",
    "|mean|average value return|\n",
    "|median|madian value return|\n",
    "|replace|replace \"A\" Series.value to \"B\"|\n",
    "|sample|return a random value from a specific column or row in a Dataframe or Series|\n",
    "|sort_values|sort values|\n",
    "|to_frame|convert Series to Dataframe|\n",
    "|nlargest(n)|내림차순으로 정렬된 n개의 데이터 출력|\n",
    "|unique()|해당 칼럼의 고유의 값들만 출력 (excel의 중복값 제거와 같은 개념)|\n",
    "|nunique()|해당 칼럼의 고유의 값들의 갯수 출력|\n"
   ]
  },
  {
   "attachments": {},
   "cell_type": "markdown",
   "metadata": {},
   "source": [
    "### example using the Series method"
   ]
  },
  {
   "attachments": {},
   "cell_type": "markdown",
   "metadata": {},
   "source": [
    "#### basic"
   ]
  },
  {
   "cell_type": "code",
   "execution_count": 10,
   "metadata": {},
   "outputs": [
    {
     "name": "stdout",
     "output_type": "stream",
     "text": [
      "Rosaline Franklin    False\n",
      "William Gosset        True\n",
      "Name: Age, dtype: bool\n",
      "\n",
      "William Gosset    61\n",
      "Name: Age, dtype: int64\n"
     ]
    }
   ],
   "source": [
    "print(ages > ages.mean())\n",
    "print()\n",
    "print(ages[ages > ages.mean()])"
   ]
  },
  {
   "attachments": {},
   "cell_type": "markdown",
   "metadata": {},
   "source": [
    "#### Series broadcasting"
   ]
  },
  {
   "cell_type": "code",
   "execution_count": 11,
   "metadata": {},
   "outputs": [
    {
     "name": "stdout",
     "output_type": "stream",
     "text": [
      "normal Series\n",
      "Rosaline Franklin    37\n",
      "William Gosset       61\n",
      "Name: Age, dtype: int64 \n",
      "\n",
      "broadcasting_1\n",
      "Rosaline Franklin     74\n",
      "William Gosset       122\n",
      "Name: Age, dtype: int64  \n",
      "\n",
      "broadcasting_2\n",
      "Rosaline Franklin    137\n",
      "William Gosset       161\n",
      "Name: Age, dtype: int64\n"
     ]
    }
   ],
   "source": [
    "print(\"normal Series\")\n",
    "print(ages,\"\\n\")\n",
    "print(\"broadcasting_1\")\n",
    "print(ages + ages,\" \\n\")\n",
    "print(\"broadcasting_2\")\n",
    "print(ages + 100)"
   ]
  },
  {
   "attachments": {},
   "cell_type": "markdown",
   "metadata": {},
   "source": [
    "#### Sort"
   ]
  },
  {
   "cell_type": "code",
   "execution_count": 12,
   "metadata": {},
   "outputs": [
    {
     "name": "stdout",
     "output_type": "stream",
     "text": [
      "William Gosset       61\n",
      "Rosaline Franklin    37\n",
      "Name: Age, dtype: int64\n"
     ]
    }
   ],
   "source": [
    "rev_ages = ages.sort_index(ascending=False)\n",
    "print(rev_ages)\n"
   ]
  },
  {
   "attachments": {},
   "cell_type": "markdown",
   "metadata": {},
   "source": [
    "____\n",
    "## Dataframe basic"
   ]
  },
  {
   "attachments": {},
   "cell_type": "markdown",
   "metadata": {},
   "source": [
    "### boolen"
   ]
  },
  {
   "cell_type": "code",
   "execution_count": 13,
   "metadata": {},
   "outputs": [
    {
     "name": "stdout",
     "output_type": "stream",
     "text": [
      "                  Occupation        Born        Died  Age\n",
      "William Gosset  Statistician  1876-06-13  1937-10-16   61\n"
     ]
    }
   ],
   "source": [
    "# scientists Age 중 mean 값 초과만 출력하기\n",
    "print(scientists[scientists['Age'] > scientists['Age'].mean()])"
   ]
  },
  {
   "cell_type": "code",
   "execution_count": 14,
   "metadata": {},
   "outputs": [
    {
     "name": "stdout",
     "output_type": "stream",
     "text": [
      "                  Occupation        Born        Died  Age\n",
      "Rosaline Franklin    Chemist  1920-07-25  1958-04-16   37\n"
     ]
    }
   ],
   "source": [
    "# index 순서대로 True면 출력 / False면 출력하지 않음\n",
    "print(scientists.loc[[True,False]])"
   ]
  },
  {
   "attachments": {},
   "cell_type": "markdown",
   "metadata": {},
   "source": [
    "### Dataframe boardcasting"
   ]
  },
  {
   "cell_type": "code",
   "execution_count": 15,
   "metadata": {},
   "outputs": [
    {
     "name": "stdout",
     "output_type": "stream",
     "text": [
      "                                 Occupation                  Born  \\\n",
      "Rosaline Franklin            ChemistChemist  1920-07-251920-07-25   \n",
      "William Gosset     StatisticianStatistician  1876-06-131876-06-13   \n",
      "\n",
      "                                   Died  Age  \n",
      "Rosaline Franklin  1958-04-161958-04-16   74  \n",
      "William Gosset     1937-10-161937-10-16  122  \n"
     ]
    }
   ],
   "source": [
    "print(scientists*2)"
   ]
  },
  {
   "attachments": {},
   "cell_type": "markdown",
   "metadata": {},
   "source": [
    "### change column's type"
   ]
  },
  {
   "cell_type": "code",
   "execution_count": 16,
   "metadata": {},
   "outputs": [
    {
     "name": "stdout",
     "output_type": "stream",
     "text": [
      "Rosaline Franklin   1920-07-25\n",
      "William Gosset      1876-06-13\n",
      "Name: Born, dtype: datetime64[ns]\n"
     ]
    }
   ],
   "source": [
    "born_datetime = pd.to_datetime(scientists['Born'], format='%Y-%m-%d')\n",
    "print(born_datetime)"
   ]
  },
  {
   "cell_type": "code",
   "execution_count": 17,
   "metadata": {},
   "outputs": [
    {
     "name": "stdout",
     "output_type": "stream",
     "text": [
      "Rosaline Franklin   1958-04-16\n",
      "William Gosset      1937-10-16\n",
      "Name: Died, dtype: datetime64[ns]\n"
     ]
    }
   ],
   "source": [
    "died_datetime = pd.to_datetime(scientists['Died'], format='%Y-%m-%d')\n",
    "print(died_datetime)"
   ]
  },
  {
   "cell_type": "code",
   "execution_count": 18,
   "metadata": {},
   "outputs": [
    {
     "data": {
      "text/html": [
       "<div>\n",
       "<style scoped>\n",
       "    .dataframe tbody tr th:only-of-type {\n",
       "        vertical-align: middle;\n",
       "    }\n",
       "\n",
       "    .dataframe tbody tr th {\n",
       "        vertical-align: top;\n",
       "    }\n",
       "\n",
       "    .dataframe thead th {\n",
       "        text-align: right;\n",
       "    }\n",
       "</style>\n",
       "<table border=\"1\" class=\"dataframe\">\n",
       "  <thead>\n",
       "    <tr style=\"text-align: right;\">\n",
       "      <th></th>\n",
       "      <th>Occupation</th>\n",
       "      <th>Born</th>\n",
       "      <th>Died</th>\n",
       "      <th>Age</th>\n",
       "      <th>born_dt</th>\n",
       "      <th>died_dt</th>\n",
       "      <th>age_days_dt</th>\n",
       "    </tr>\n",
       "  </thead>\n",
       "  <tbody>\n",
       "    <tr>\n",
       "      <th>Rosaline Franklin</th>\n",
       "      <td>Chemist</td>\n",
       "      <td>1920-07-25</td>\n",
       "      <td>1958-04-16</td>\n",
       "      <td>37</td>\n",
       "      <td>1920-07-25</td>\n",
       "      <td>1958-04-16</td>\n",
       "      <td>13779 days</td>\n",
       "    </tr>\n",
       "    <tr>\n",
       "      <th>William Gosset</th>\n",
       "      <td>Statistician</td>\n",
       "      <td>1876-06-13</td>\n",
       "      <td>1937-10-16</td>\n",
       "      <td>61</td>\n",
       "      <td>1876-06-13</td>\n",
       "      <td>1937-10-16</td>\n",
       "      <td>22404 days</td>\n",
       "    </tr>\n",
       "  </tbody>\n",
       "</table>\n",
       "</div>"
      ],
      "text/plain": [
       "                     Occupation        Born        Died  Age    born_dt  \\\n",
       "Rosaline Franklin       Chemist  1920-07-25  1958-04-16   37 1920-07-25   \n",
       "William Gosset     Statistician  1876-06-13  1937-10-16   61 1876-06-13   \n",
       "\n",
       "                     died_dt age_days_dt  \n",
       "Rosaline Franklin 1958-04-16  13779 days  \n",
       "William Gosset    1937-10-16  22404 days  "
      ]
     },
     "execution_count": 18,
     "metadata": {},
     "output_type": "execute_result"
    }
   ],
   "source": [
    "scientists['born_dt'], scientists['died_dt'] = (born_datetime, died_datetime)\n",
    "scientists['age_days_dt'] = (scientists['died_dt'] - scientists['born_dt'])\n",
    "\n",
    "scientists"
   ]
  },
  {
   "attachments": {},
   "cell_type": "markdown",
   "metadata": {},
   "source": [
    "### remove column in Dataframe"
   ]
  },
  {
   "cell_type": "code",
   "execution_count": 19,
   "metadata": {},
   "outputs": [
    {
     "name": "stdout",
     "output_type": "stream",
     "text": [
      "Index(['Occupation', 'Born', 'Died', 'Age', 'born_dt', 'died_dt',\n",
      "       'age_days_dt'],\n",
      "      dtype='object')\n",
      "Index(['Occupation', 'Born', 'Died', 'born_dt', 'died_dt', 'age_days_dt'], dtype='object')\n"
     ]
    }
   ],
   "source": [
    "print(scientists.columns)\n",
    "\n",
    "\n",
    "scientists_dropped = scientists.drop(['Age'], axis=1)\n",
    "print(scientists_dropped.columns)"
   ]
  },
  {
   "attachments": {},
   "cell_type": "markdown",
   "metadata": {},
   "source": [
    "____\n",
    "# Data save and load"
   ]
  },
  {
   "attachments": {},
   "cell_type": "markdown",
   "metadata": {},
   "source": [
    "### save to "
   ]
  },
  {
   "attachments": {},
   "cell_type": "markdown",
   "metadata": {},
   "source": [
    "* Save to Series data   \n",
    "`names = df['column']`  \n",
    "`names.to_pickle('file_dir')`\n",
    "\n",
    "\n",
    "* pickle\n",
    "`scientists.to_pickle('file_dir')`\n",
    "\n",
    "\n",
    "* csv = Comma Seperated Value<br>\n",
    "`names.to_csv('file_dir/file_name.csv', encoding='utf-8-sig')`  \n",
    "추가로 파라미터에 `index=False` 옵션을 넣으면 index는 제외된채 저장됨.\n",
    "\n",
    "\n",
    "* tsv = tab Seperated Value<br>\n",
    "`names.to_csv('file_dir/file_name.tsv', sep='/t')`\n",
    "\n",
    "* txt<br>\n",
    "`names.to_csv('file_dir/file_name.txt', sep='/t')`  \n",
    "\n",
    "* excel\n",
    "`df.to_excel('df.xlsx)`\n",
    "\n"
   ]
  },
  {
   "attachments": {},
   "cell_type": "markdown",
   "metadata": {},
   "source": [
    "### load to"
   ]
  },
  {
   "attachments": {},
   "cell_type": "markdown",
   "metadata": {},
   "source": [
    "* csv  \n",
    "`df = pd.read_csv('df.csv', skiprows=[1,2,3,4,5])` 파라미터로 입력 받은 rows는 읽어오지 않음.  \n",
    "`df = pd.read_csv('df.csv', nrows=10)`  파라미터로 입력 받은 rows까지만 읽어옴.  \n",
    "`df = pd.read_csv('df.csv', skiprows=[1,2,3,4,5], nrows=10)`  \n",
    "그 외에도 excel 등 Save에서 사용했던 확장자 그대로 read도 가능하다.\n"
   ]
  }
 ],
 "metadata": {
  "kernelspec": {
   "display_name": "Python 3",
   "language": "python",
   "name": "python3"
  },
  "language_info": {
   "codemirror_mode": {
    "name": "ipython",
    "version": 3
   },
   "file_extension": ".py",
   "mimetype": "text/x-python",
   "name": "python",
   "nbconvert_exporter": "python",
   "pygments_lexer": "ipython3",
   "version": "3.10.7"
  },
  "orig_nbformat": 4,
  "vscode": {
   "interpreter": {
    "hash": "4225bb6137ff0b7b155d720872316906473039233cefc1075b9b6dead87f8f6a"
   }
  }
 },
 "nbformat": 4,
 "nbformat_minor": 2
}
